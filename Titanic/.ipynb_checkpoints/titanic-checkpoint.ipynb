{
 "cells": [
  {
   "cell_type": "code",
   "execution_count": 123,
   "id": "e156871f",
   "metadata": {},
   "outputs": [],
   "source": [
    "import numpy as np\n",
    "import pandas as pd\n",
    "import matplotlib.pyplot as plt\n",
    "from sklearn.linear_model import LogisticRegression\n",
    "from sklearn.impute import SimpleImputer\n",
    "from sklearn.preprocessing import LabelEncoder\n",
    "from sklearn import svm\n",
    "from sklearn.model_selection import train_test_split\n",
    "from sklearn.naive_bayes import GaussianNB\n",
    "from sklearn.neighbors import KNeighborsClassifier\n",
    "from sklearn.ensemble import RandomForestClassifier"
   ]
  },
  {
   "cell_type": "code",
   "execution_count": 54,
   "id": "4fb33d7a",
   "metadata": {},
   "outputs": [
    {
     "name": "stdout",
     "output_type": "stream",
     "text": [
      "<class 'pandas.core.frame.DataFrame'>\n",
      "RangeIndex: 891 entries, 0 to 890\n",
      "Data columns (total 12 columns):\n",
      " #   Column       Non-Null Count  Dtype  \n",
      "---  ------       --------------  -----  \n",
      " 0   PassengerId  891 non-null    int64  \n",
      " 1   Survived     891 non-null    int64  \n",
      " 2   Pclass       891 non-null    int64  \n",
      " 3   Name         891 non-null    object \n",
      " 4   Sex          891 non-null    object \n",
      " 5   Age          714 non-null    float64\n",
      " 6   SibSp        891 non-null    int64  \n",
      " 7   Parch        891 non-null    int64  \n",
      " 8   Ticket       891 non-null    object \n",
      " 9   Fare         891 non-null    float64\n",
      " 10  Cabin        204 non-null    object \n",
      " 11  Embarked     889 non-null    object \n",
      "dtypes: float64(2), int64(5), object(5)\n",
      "memory usage: 83.7+ KB\n",
      "None\n"
     ]
    },
    {
     "data": {
      "text/html": [
       "<div>\n",
       "<style scoped>\n",
       "    .dataframe tbody tr th:only-of-type {\n",
       "        vertical-align: middle;\n",
       "    }\n",
       "\n",
       "    .dataframe tbody tr th {\n",
       "        vertical-align: top;\n",
       "    }\n",
       "\n",
       "    .dataframe thead th {\n",
       "        text-align: right;\n",
       "    }\n",
       "</style>\n",
       "<table border=\"1\" class=\"dataframe\">\n",
       "  <thead>\n",
       "    <tr style=\"text-align: right;\">\n",
       "      <th></th>\n",
       "      <th>PassengerId</th>\n",
       "      <th>Survived</th>\n",
       "      <th>Pclass</th>\n",
       "      <th>Name</th>\n",
       "      <th>Sex</th>\n",
       "      <th>Age</th>\n",
       "      <th>SibSp</th>\n",
       "      <th>Parch</th>\n",
       "      <th>Ticket</th>\n",
       "      <th>Fare</th>\n",
       "      <th>Cabin</th>\n",
       "      <th>Embarked</th>\n",
       "    </tr>\n",
       "  </thead>\n",
       "  <tbody>\n",
       "    <tr>\n",
       "      <th>377</th>\n",
       "      <td>378</td>\n",
       "      <td>0</td>\n",
       "      <td>1</td>\n",
       "      <td>Widener, Mr. Harry Elkins</td>\n",
       "      <td>male</td>\n",
       "      <td>27.0</td>\n",
       "      <td>0</td>\n",
       "      <td>2</td>\n",
       "      <td>113503</td>\n",
       "      <td>211.5000</td>\n",
       "      <td>C82</td>\n",
       "      <td>C</td>\n",
       "    </tr>\n",
       "    <tr>\n",
       "      <th>555</th>\n",
       "      <td>556</td>\n",
       "      <td>0</td>\n",
       "      <td>1</td>\n",
       "      <td>Wright, Mr. George</td>\n",
       "      <td>male</td>\n",
       "      <td>62.0</td>\n",
       "      <td>0</td>\n",
       "      <td>0</td>\n",
       "      <td>113807</td>\n",
       "      <td>26.5500</td>\n",
       "      <td>NaN</td>\n",
       "      <td>S</td>\n",
       "    </tr>\n",
       "    <tr>\n",
       "      <th>701</th>\n",
       "      <td>702</td>\n",
       "      <td>1</td>\n",
       "      <td>1</td>\n",
       "      <td>Silverthorne, Mr. Spencer Victor</td>\n",
       "      <td>male</td>\n",
       "      <td>35.0</td>\n",
       "      <td>0</td>\n",
       "      <td>0</td>\n",
       "      <td>PC 17475</td>\n",
       "      <td>26.2875</td>\n",
       "      <td>E24</td>\n",
       "      <td>S</td>\n",
       "    </tr>\n",
       "  </tbody>\n",
       "</table>\n",
       "</div>"
      ],
      "text/plain": [
       "     PassengerId  Survived  Pclass                              Name   Sex  \\\n",
       "377          378         0       1         Widener, Mr. Harry Elkins  male   \n",
       "555          556         0       1                Wright, Mr. George  male   \n",
       "701          702         1       1  Silverthorne, Mr. Spencer Victor  male   \n",
       "\n",
       "      Age  SibSp  Parch    Ticket      Fare Cabin Embarked  \n",
       "377  27.0      0      2    113503  211.5000   C82        C  \n",
       "555  62.0      0      0    113807   26.5500   NaN        S  \n",
       "701  35.0      0      0  PC 17475   26.2875   E24        S  "
      ]
     },
     "execution_count": 54,
     "metadata": {},
     "output_type": "execute_result"
    }
   ],
   "source": [
    "train_data = pd.read_csv(r\"./data/train.csv\")\n",
    "print(train_data.info())\n",
    "train_data.sample(3)"
   ]
  },
  {
   "cell_type": "code",
   "execution_count": 114,
   "id": "0a3853aa",
   "metadata": {},
   "outputs": [],
   "source": [
    "def preprocess_data(subset):\n",
    "    mean_imp = SimpleImputer(strategy='mean')\n",
    "    \n",
    "    age = np.array(subset[\"Age\"]).reshape(-1, 1)\n",
    "    age = mean_imp.fit_transform(age)\n",
    "\n",
    "    Pclass = np.array(subset[\"Pclass\"]).reshape(-1,1)\n",
    "\n",
    "    sex = np.array(subset[\"Sex\"]).reshape(-1,1)\n",
    "    sex = (sex != \"male\").astype(int)\n",
    "\n",
    "    SibSp = np.array(subset[\"SibSp\"]).reshape(-1,1)\n",
    "    \n",
    "    embarked = np.array(subset[\"Embarked\"])\n",
    "    embarked = LabelEncoder().fit_transform(embarked).reshape(-1,1)\n",
    "\n",
    "    features = np.concatenate((age, Pclass, sex, SibSp, embarked), axis=1)\n",
    "    return features"
   ]
  },
  {
   "cell_type": "code",
   "execution_count": 115,
   "id": "1c45d4de",
   "metadata": {},
   "outputs": [
    {
     "name": "stdout",
     "output_type": "stream",
     "text": [
      "[[22.          3.          0.          1.          2.        ]\n",
      " [38.          1.          1.          1.          0.        ]\n",
      " [26.          3.          1.          0.          2.        ]\n",
      " ...\n",
      " [29.69911765  3.          1.          1.          2.        ]\n",
      " [26.          1.          0.          0.          0.        ]\n",
      " [32.          3.          0.          0.          1.        ]]\n"
     ]
    }
   ],
   "source": [
    "subset = train_data[[\"Survived\", \"Age\", \"Pclass\", \"Sex\", \"SibSp\", \"Embarked\"]]\n",
    "\n",
    "y = np.array(subset[\"Survived\"])\n",
    "\n",
    "features = preprocess_data(subset)\n",
    "print(features)\n"
   ]
  },
  {
   "cell_type": "code",
   "execution_count": 116,
   "id": "7bf9b54d",
   "metadata": {},
   "outputs": [],
   "source": [
    "def logistic_regression_predictions(test_features):\n",
    "    clf = LogisticRegression(random_state=0)\n",
    "    clf_pred = clf.fit(features, y)\n",
    "    score = clf_pred.score(features, y)\n",
    "    predictions = clf_pred.predict(test_features)\n",
    "    return score, predictions.reshape(-1,1)"
   ]
  },
  {
   "cell_type": "code",
   "execution_count": 117,
   "id": "d38fcb33",
   "metadata": {},
   "outputs": [],
   "source": [
    "def svm_prediction(test_features):\n",
    "    svm_pred = svm.SVC(kernel='linear')\n",
    "    svm_pred.fit(features, y)\n",
    "    score = svm_pred.score(features,y)\n",
    "    predictions = svm_pred.predict(test_features)\n",
    "    return score, predictions.reshape(-1,1)"
   ]
  },
  {
   "cell_type": "code",
   "execution_count": 118,
   "id": "75d4dedd",
   "metadata": {},
   "outputs": [],
   "source": [
    "def naive_bayes_prediction(test_features):\n",
    "    gnb = GaussianNB()\n",
    "    gnb_pred = gnb.fit(features, y)\n",
    "    score = gnb_pred.score(features,y)\n",
    "    predictions = gnb_pred.predict(test_features)\n",
    "    return score, predictions.reshape(-1,1)"
   ]
  },
  {
   "cell_type": "code",
   "execution_count": 119,
   "id": "7d4e53b2",
   "metadata": {},
   "outputs": [],
   "source": [
    "def KNN_prediction(test_features):\n",
    "    neigh = KNeighborsClassifier(n_neighbors=5)\n",
    "    neigh_pred = neigh.fit(features,y)\n",
    "    score = neigh_pred.score(features,y)\n",
    "    predictions = neigh_pred.predict(test_features)\n",
    "    return score, predictions.reshape(-1,1)"
   ]
  },
  {
   "cell_type": "code",
   "execution_count": 129,
   "id": "322359b4",
   "metadata": {},
   "outputs": [],
   "source": [
    "def random_forest_prediction(test_features):\n",
    "    forest = RandomForestClassifier(max_depth=4)\n",
    "    forest.fit(features,y)\n",
    "    score = forest.score(features,y)\n",
    "    predictions = forest.predict(test_features)\n",
    "    return score, predictions.reshape(-1,1)"
   ]
  },
  {
   "cell_type": "code",
   "execution_count": 130,
   "id": "a398e2b0",
   "metadata": {},
   "outputs": [],
   "source": [
    "test_data = pd.read_csv(r\"./data/test.csv\")\n",
    "\n",
    "test_subset = test_data[[\"Age\", \"Pclass\", \"Sex\", \"SibSp\", \"Embarked\"]]\n",
    "\n",
    "test_features = preprocess_data(test_subset)"
   ]
  },
  {
   "cell_type": "code",
   "execution_count": 131,
   "id": "5db1cdf3",
   "metadata": {},
   "outputs": [
    {
     "name": "stdout",
     "output_type": "stream",
     "text": [
      "Score on training data: 0.8338945005611672\n",
      "Number of predictions on test data: 418\n"
     ]
    }
   ],
   "source": [
    "score, predictions = random_forest_prediction(test_features)\n",
    "print(f\"Score on training data: {score}\")\n",
    "print(f\"Number of predictions on test data: {len(predictions)}\")"
   ]
  },
  {
   "cell_type": "code",
   "execution_count": 132,
   "id": "47f2363a",
   "metadata": {},
   "outputs": [],
   "source": [
    "pids = np.array(test_data[\"PassengerId\"]).reshape(-1,1)\n",
    "submission = np.concatenate((pids, predictions), axis=1)\n",
    "submission = pd.DataFrame(submission, columns=['PassengerId', 'Survived'])\n",
    "submission.to_csv('submission.csv',index=False)"
   ]
  },
  {
   "cell_type": "code",
   "execution_count": null,
   "id": "665d347a",
   "metadata": {},
   "outputs": [],
   "source": []
  }
 ],
 "metadata": {
  "kernelspec": {
   "display_name": "Python 3",
   "language": "python",
   "name": "python3"
  },
  "language_info": {
   "codemirror_mode": {
    "name": "ipython",
    "version": 3
   },
   "file_extension": ".py",
   "mimetype": "text/x-python",
   "name": "python",
   "nbconvert_exporter": "python",
   "pygments_lexer": "ipython3",
   "version": "3.9.5"
  }
 },
 "nbformat": 4,
 "nbformat_minor": 5
}
